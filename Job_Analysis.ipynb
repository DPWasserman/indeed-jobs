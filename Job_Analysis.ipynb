{
 "cells": [
  {
   "cell_type": "markdown",
   "metadata": {},
   "source": [
    "## Ingest scraped data"
   ]
  },
  {
   "cell_type": "code",
   "execution_count": 119,
   "metadata": {},
   "outputs": [],
   "source": [
    "import pandas as pd\n",
    "import numpy as np\n",
    "indeed_posts_df = pd.read_csv('indeed/data/indeed_spider.csv')\n",
    "redirects_df = pd.read_csv('indeed/data/redirect_spider.csv')"
   ]
  },
  {
   "cell_type": "markdown",
   "metadata": {},
   "source": [
    "## Join the data sets together"
   ]
  },
  {
   "cell_type": "code",
   "execution_count": 120,
   "metadata": {},
   "outputs": [],
   "source": [
    "indeed_df = indeed_posts_df.join(redirects_df, rsuffix='_red', how='left').drop('original_url_red',axis=1)"
   ]
  },
  {
   "cell_type": "markdown",
   "metadata": {},
   "source": [
    "## Transform Posted Date field to DateTime"
   ]
  },
  {
   "cell_type": "code",
   "execution_count": 121,
   "metadata": {},
   "outputs": [],
   "source": [
    "indeed_df['post_date'] = pd.to_datetime(indeed_df['post_date'])"
   ]
  },
  {
   "cell_type": "markdown",
   "metadata": {},
   "source": [
    "## Create feature to see if job is remote"
   ]
  },
  {
   "cell_type": "code",
   "execution_count": 122,
   "metadata": {},
   "outputs": [],
   "source": [
    "indeed_df['remote'] = indeed_df['job_location'].str.contains('remote', case=False, regex=False)"
   ]
  },
  {
   "cell_type": "code",
   "execution_count": 123,
   "metadata": {},
   "outputs": [],
   "source": [
    "indeed_df['posted_days_ago'] = (max(indeed_df['post_date']) - indeed_df['post_date'])/np.timedelta64(1,'D')"
   ]
  },
  {
   "cell_type": "markdown",
   "metadata": {},
   "source": [
    "## Normalize non-annual salaries to annual salaries "
   ]
  },
  {
   "cell_type": "code",
   "execution_count": 128,
   "metadata": {},
   "outputs": [],
   "source": [
    "salary_mask = np.logical_not(indeed_df['salary'].isna())\n",
    "jobs.loc[salary_mask, 'salary_interim'] = jobs.loc[salary_mask, 'salary'].apply(lambda wd: wd.split(' ')[-1])"
   ]
  },
  {
   "cell_type": "code",
   "execution_count": 129,
   "metadata": {},
   "outputs": [
    {
     "data": {
      "text/plain": [
       "array([nan, 'year', 'hour', 'month'], dtype=object)"
      ]
     },
     "execution_count": 129,
     "metadata": {},
     "output_type": "execute_result"
    }
   ],
   "source": [
    "jobs['salary_interim'].unique()"
   ]
  },
  {
   "cell_type": "code",
   "execution_count": 124,
   "metadata": {},
   "outputs": [],
   "source": [
    "salary_mask = np.logical_and(np.logical_not(indeed_df['salary'].isna()),indeed_df['salary'].str.endswith('hour'))\n",
    "HOURLY_TO_ANNUAL_MULTIPLE = 2000\n",
    "indeed_df.loc[salary_mask, 'job_salary_low'] = indeed_df['job_salary_low'] * HOURLY_TO_ANNUAL_MULTIPLE\n",
    "indeed_df.loc[salary_mask, 'job_salary_high'] = indeed_df['job_salary_high'] * HOURLY_TO_ANNUAL_MULTIPLE\n",
    "\n",
    "\n",
    "salary_mask = np.logical_and(np.logical_not(indeed_df['salary'].isna()),indeed_df['salary'].str.endswith('month'))\n",
    "MONTHLY_TO_ANNUAL_MULTIPLE = 12\n",
    "indeed_df.loc[salary_mask, 'job_salary_low'] = indeed_df['job_salary_low'] * MONTHLY_TO_ANNUAL_MULTIPLE\n",
    "indeed_df.loc[salary_mask, 'job_salary_high'] = indeed_df['job_salary_high'] * MONTHLY_TO_ANNUAL_MULTIPLE"
   ]
  },
  {
   "cell_type": "markdown",
   "metadata": {},
   "source": [
    "## Job Salary Statistics"
   ]
  },
  {
   "cell_type": "code",
   "execution_count": 125,
   "metadata": {},
   "outputs": [
    {
     "data": {
      "text/html": [
       "<div>\n",
       "<style scoped>\n",
       "    .dataframe tbody tr th:only-of-type {\n",
       "        vertical-align: middle;\n",
       "    }\n",
       "\n",
       "    .dataframe tbody tr th {\n",
       "        vertical-align: top;\n",
       "    }\n",
       "\n",
       "    .dataframe thead th {\n",
       "        text-align: right;\n",
       "    }\n",
       "</style>\n",
       "<table border=\"1\" class=\"dataframe\">\n",
       "  <thead>\n",
       "    <tr style=\"text-align: right;\">\n",
       "      <th></th>\n",
       "      <th>job_salary_low</th>\n",
       "      <th>job_salary_high</th>\n",
       "    </tr>\n",
       "  </thead>\n",
       "  <tbody>\n",
       "    <tr>\n",
       "      <th>count</th>\n",
       "      <td>97.000000</td>\n",
       "      <td>97.000000</td>\n",
       "    </tr>\n",
       "    <tr>\n",
       "      <th>mean</th>\n",
       "      <td>115621.494845</td>\n",
       "      <td>145044.474227</td>\n",
       "    </tr>\n",
       "    <tr>\n",
       "      <th>std</th>\n",
       "      <td>45894.943073</td>\n",
       "      <td>63091.692807</td>\n",
       "    </tr>\n",
       "    <tr>\n",
       "      <th>min</th>\n",
       "      <td>20000.000000</td>\n",
       "      <td>20000.000000</td>\n",
       "    </tr>\n",
       "    <tr>\n",
       "      <th>25%</th>\n",
       "      <td>80750.000000</td>\n",
       "      <td>103309.000000</td>\n",
       "    </tr>\n",
       "    <tr>\n",
       "      <th>50%</th>\n",
       "      <td>114700.000000</td>\n",
       "      <td>140000.000000</td>\n",
       "    </tr>\n",
       "    <tr>\n",
       "      <th>75%</th>\n",
       "      <td>150000.000000</td>\n",
       "      <td>170000.000000</td>\n",
       "    </tr>\n",
       "    <tr>\n",
       "      <th>max</th>\n",
       "      <td>320000.000000</td>\n",
       "      <td>450000.000000</td>\n",
       "    </tr>\n",
       "  </tbody>\n",
       "</table>\n",
       "</div>"
      ],
      "text/plain": [
       "       job_salary_low  job_salary_high\n",
       "count       97.000000        97.000000\n",
       "mean    115621.494845    145044.474227\n",
       "std      45894.943073     63091.692807\n",
       "min      20000.000000     20000.000000\n",
       "25%      80750.000000    103309.000000\n",
       "50%     114700.000000    140000.000000\n",
       "75%     150000.000000    170000.000000\n",
       "max     320000.000000    450000.000000"
      ]
     },
     "execution_count": 125,
     "metadata": {},
     "output_type": "execute_result"
    }
   ],
   "source": [
    "indeed_df.loc[np.logical_not(indeed_df['salary'].isna())][['job_salary_low', 'job_salary_high']].describe()"
   ]
  },
  {
   "cell_type": "markdown",
   "metadata": {},
   "source": [
    "## Analysis of Jobs Posted per Date"
   ]
  },
  {
   "cell_type": "code",
   "execution_count": 60,
   "metadata": {},
   "outputs": [],
   "source": [
    "from matplotlib import pyplot as plt\n",
    "postings_df = indeed_df['post_date'].value_counts()[1:].reset_index()\n",
    "postings_df.columns = ['post date','count']\n",
    "postings_df = postings_df.sort_values('post date')"
   ]
  },
  {
   "cell_type": "code",
   "execution_count": 62,
   "metadata": {},
   "outputs": [
    {
     "data": {
      "image/png": "[encoded data removed]",
      "text/plain": [
       "<Figure size 432x288 with 1 Axes>"
      ]
     },
     "metadata": {
      "needs_background": "light"
     },
     "output_type": "display_data"
    }
   ],
   "source": [
    "x = postings_df['post date']\n",
    "y = postings_df['count']\n",
    "fig = plt.figure()\n",
    "plt.bar(x, y)\n",
    "fig.autofmt_xdate()\n",
    "plt.xticks(rotation=45)\n",
    "plt.show()"
   ]
  },
  {
   "cell_type": "markdown",
   "metadata": {},
   "source": [
    "## Analysis of Job Locations"
   ]
  },
  {
   "cell_type": "code",
   "execution_count": 111,
   "metadata": {},
   "outputs": [],
   "source": [
    "jobs = indeed_df.copy()"
   ]
  },
  {
   "cell_type": "code",
   "execution_count": 112,
   "metadata": {},
   "outputs": [],
   "source": [
    "jobs.loc[jobs['remote'],'search_location'] = 'Remote'"
   ]
  },
  {
   "cell_type": "markdown",
   "metadata": {},
   "source": [
    "### Jobs Posted within the last 30 days"
   ]
  },
  {
   "cell_type": "code",
   "execution_count": 113,
   "metadata": {},
   "outputs": [
    {
     "data": {
      "text/plain": [
       "search_location\n",
       "Charlotte, NC         40\n",
       "Chicago, IL          137\n",
       "Los Angeles, CA      106\n",
       "New York, NY         306\n",
       "Phoenix, AZ           31\n",
       "Remote               161\n",
       "San Francisco, CA    273\n",
       "Name: indeed_job_key, dtype: int64"
      ]
     },
     "execution_count": 113,
     "metadata": {},
     "output_type": "execute_result"
    }
   ],
   "source": [
    "jobs.loc[jobs['posted_days_ago']<30,:].groupby('search_location')['indeed_job_key'].count()"
   ]
  },
  {
   "cell_type": "markdown",
   "metadata": {},
   "source": [
    "### All Jobs on the Market"
   ]
  },
  {
   "cell_type": "code",
   "execution_count": 114,
   "metadata": {},
   "outputs": [
    {
     "data": {
      "text/plain": [
       "search_location\n",
       "Charlotte, NC         77\n",
       "Chicago, IL          314\n",
       "Los Angeles, CA      269\n",
       "New York, NY         754\n",
       "Phoenix, AZ           69\n",
       "Remote               325\n",
       "San Francisco, CA    694\n",
       "Name: indeed_job_key, dtype: int64"
      ]
     },
     "execution_count": 114,
     "metadata": {},
     "output_type": "execute_result"
    }
   ],
   "source": [
    "jobs.groupby('search_location')['indeed_job_key'].count()"
   ]
  },
  {
   "cell_type": "code",
   "execution_count": null,
   "metadata": {},
   "outputs": [],
   "source": []
  }
 ],
 "metadata": {
  "kernelspec": {
   "display_name": "Python 3",
   "language": "python",
   "name": "python3"
  },
  "language_info": {
   "codemirror_mode": {
    "name": "ipython",
    "version": 3
   },
   "file_extension": ".py",
   "mimetype": "text/x-python",
   "name": "python",
   "nbconvert_exporter": "python",
   "pygments_lexer": "ipython3",
   "version": "3.7.9"
  }
 },
 "nbformat": 4,
 "nbformat_minor": 4
}
